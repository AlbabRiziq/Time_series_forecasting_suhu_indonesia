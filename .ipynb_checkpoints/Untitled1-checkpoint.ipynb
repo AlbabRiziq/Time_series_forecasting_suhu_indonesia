{
 "cells": [
  {
   "cell_type": "code",
   "execution_count": 5,
   "id": "08d9e91f-193c-4bb9-9b09-78151271061f",
   "metadata": {},
   "outputs": [
    {
     "name": "stdout",
     "output_type": "stream",
     "text": [
      "9000.0\n"
     ]
    }
   ],
   "source": [
    "harga_asli = 10000\n",
    "diskon = (10/100)\n",
    "\n",
    "potongan_harga = harga_asli * diskon\n",
    "harga_diskon = harga_asli - potongan_harga\n",
    "\n",
    "print(harga_diskon)"
   ]
  },
  {
   "cell_type": "code",
   "execution_count": 6,
   "id": "1c61533d-fd14-414d-8833-459761393927",
   "metadata": {},
   "outputs": [
    {
     "name": "stdout",
     "output_type": "stream",
     "text": [
      "ds\n",
      "ds\n",
      "ds\n",
      "ds\n",
      "ds\n",
      "ds\n",
      "ds\n",
      "ds\n",
      "ds\n",
      "ds\n",
      "ds\n",
      "ds\n",
      "ds\n",
      "ds\n",
      "ds\n",
      "ds\n",
      "ds\n",
      "ds\n",
      "ds\n",
      "ds\n",
      "ds\n",
      "ds\n",
      "ds\n",
      "ds\n",
      "ds\n",
      "ds\n",
      "ds\n",
      "ds\n",
      "ds\n",
      "ds\n",
      "ds\n",
      "ds\n",
      "ds\n",
      "ds\n",
      "ds\n",
      "ds\n",
      "ds\n",
      "ds\n",
      "ds\n",
      "ds\n",
      "ds\n",
      "ds\n",
      "ds\n",
      "ds\n",
      "ds\n",
      "ds\n",
      "ds\n",
      "ds\n",
      "ds\n",
      "ds\n",
      "ds\n",
      "ds\n",
      "ds\n",
      "ds\n",
      "ds\n",
      "ds\n",
      "ds\n",
      "ds\n",
      "ds\n",
      "ds\n",
      "ds\n",
      "ds\n",
      "ds\n",
      "ds\n",
      "ds\n",
      "ds\n",
      "ds\n",
      "ds\n",
      "ds\n",
      "ds\n",
      "ds\n",
      "ds\n",
      "ds\n",
      "ds\n",
      "ds\n",
      "ds\n",
      "ds\n",
      "ds\n",
      "ds\n",
      "ds\n",
      "ds\n",
      "ds\n",
      "ds\n",
      "ds\n",
      "ds\n",
      "ds\n",
      "ds\n",
      "ds\n",
      "ds\n",
      "ds\n",
      "ds\n",
      "ds\n",
      "ds\n",
      "ds\n",
      "ds\n",
      "ds\n",
      "ds\n",
      "ds\n",
      "ds\n",
      "ds\n"
     ]
    }
   ],
   "source": [
    "for i in range(100):\n",
    "    print(\"ds\")"
   ]
  }
 ],
 "metadata": {
  "kernelspec": {
   "display_name": "Python 3 (ipykernel)",
   "language": "python",
   "name": "python3"
  },
  "language_info": {
   "codemirror_mode": {
    "name": "ipython",
    "version": 3
   },
   "file_extension": ".py",
   "mimetype": "text/x-python",
   "name": "python",
   "nbconvert_exporter": "python",
   "pygments_lexer": "ipython3",
   "version": "3.10.7"
  }
 },
 "nbformat": 4,
 "nbformat_minor": 5
}
